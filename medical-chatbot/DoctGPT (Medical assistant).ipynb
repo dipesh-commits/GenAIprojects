{
 "cells": [
  {
   "cell_type": "code",
   "execution_count": 1,
   "id": "8edffc82-0dd5-45af-a6ef-c49db9e4ff4e",
   "metadata": {},
   "outputs": [],
   "source": [
    "import os\n",
    "os.environ[\"OPENAI_API_KEY\"] = \"YOUR_API_KEY\""
   ]
  },
  {
   "cell_type": "code",
   "execution_count": null,
   "id": "9601311b-3032-4f1c-a1e6-7dc8b09f5142",
   "metadata": {},
   "outputs": [],
   "source": []
  },
  {
   "cell_type": "code",
   "execution_count": 3,
   "id": "9f53c226-7b84-4e7b-95a4-fd44baa4a710",
   "metadata": {},
   "outputs": [],
   "source": [
    "import re\n",
    "\n",
    "from typing import List, Union\n",
    "from langchain import OpenAI\n",
    "from langchain import LLMChain\n",
    "from langchain import LLMMathChain\n",
    "from langchain.tools import DuckDuckGoSearchRun\n",
    "from langchain.utilities import WikipediaAPIWrapper\n",
    "from langchain.agents import Tool, AgentExecutor, LLMSingleActionAgent, AgentOutputParser, initialize_agent\n",
    "from langchain.prompts import StringPromptTemplate\n",
    "from langchain.memory import ConversationBufferWindowMemory\n",
    "from langchain.schema import AgentAction, AgentFinish\n",
    "from langchain.agents.agent_types import AgentType\n",
    "\n"
   ]
  },
  {
   "cell_type": "code",
   "execution_count": 17,
   "id": "5c57786a-0233-452a-a184-8bf12146ea0f",
   "metadata": {},
   "outputs": [],
   "source": [
    "llm = OpenAI(temperature=0, model='gpt-3.5-turbo-instruct')"
   ]
  },
  {
   "cell_type": "code",
   "execution_count": 18,
   "id": "ee7da2d6-8c2a-4374-863b-d6ee61d61922",
   "metadata": {},
   "outputs": [],
   "source": [
    "search = DuckDuckGoSearchRun()\n",
    "wikipedia = WikipediaAPIWrapper()\n",
    "def wrapper(text):\n",
    "    search_results = search.run(f\"site:nih.gov {text}\")\n",
    "    return search_results\n",
    "\n",
    "search_tool = Tool(\n",
    "        name = \"Search NIH\",\n",
    "        func = wrapper,\n",
    "        description = \"useful for when you need to answer medical, pharmalogical and biomedical questions\"\n",
    "    )\n",
    "\n",
    "wiki_tool = Tool(\n",
    "        name = \"Wikipedia\",\n",
    "        func = wikipedia.run,\n",
    "        description = \"useful for searching information about various events worldwide, issues, dates, years etc. Use precise information\"\n",
    "    )\n",
    "\n",
    "llm_math_chain = LLMMathChain.from_llm(llm=llm, verbose=True)\n",
    "math_tool = Tool.from_function(\n",
    "    func = llm_math_chain,\n",
    "    name = \"Calculator\",\n",
    "    description = \"Useful for when you need to do mathematical calculations. This tool is only used for mathematics question\"\n",
    ")"
   ]
  },
  {
   "cell_type": "code",
   "execution_count": 19,
   "id": "d82243fc-e470-4445-95ba-d06bf37c513c",
   "metadata": {},
   "outputs": [],
   "source": [
    "tools = [search_tool, wiki_tool, math_tool]"
   ]
  },
  {
   "cell_type": "code",
   "execution_count": 20,
   "id": "183a6e8f-11d3-44ff-afe8-65a3d15e1676",
   "metadata": {},
   "outputs": [],
   "source": [
    "# Base template\n",
    "template_with_history = \"\"\"Answer the following questions as best you can, but speaking as compasionate medical professional. You have access to the following tools:\n",
    "\n",
    "{tools}\n",
    "\n",
    "Use the following format:\n",
    "\n",
    "Question: the input question you must answer\n",
    "Thought: you should always think about what to do\n",
    "Action: the action to take, should be one of [{tool_names}]\n",
    "Action Input: the input to the action\n",
    "Observation: the result of the action\n",
    "... (this Thought/Action/Action Input/Observation can repeat N times)\n",
    "Thought: I now know the final answer\n",
    "Final Answer: the final answer to the original input question\n",
    "\n",
    "Begin! Remember to speak as a compasionate medical professional when giving your final answer. If the condition is serious advise they speak to a doctor.\n",
    "\n",
    "Previous conversation history:\n",
    "{history}\n",
    "\n",
    "New question: {input}\n",
    "{agent_scratchpad}\"\"\"\n",
    "\n",
    "# Set up a prompt template\n",
    "class CustomPromptTemplate(StringPromptTemplate):\n",
    "    # The template to use\n",
    "    template: str\n",
    "    # The list of tools available\n",
    "    tools: List[Tool]\n",
    "    \n",
    "    def format(self, **kwargs) -> str:\n",
    "        # Get the intermediate steps (AgentAction, Observation tuples)\n",
    "        # Format them in a particular way\n",
    "        intermediate_steps = kwargs.pop(\"intermediate_steps\")\n",
    "        thoughts = \"\"\n",
    "        for action, observation in intermediate_steps:\n",
    "            thoughts += action.log\n",
    "            thoughts += f\"\\nObservation: {observation}\\nThought: \"\n",
    "        # Set the agent_scratchpad variable to that value\n",
    "        kwargs[\"agent_scratchpad\"] = thoughts\n",
    "        # Create a tools variable from the list of tools provided\n",
    "        kwargs[\"tools\"] = \"\\n\".join([f\"{tool.name}: {tool.description}\" for tool in self.tools])\n",
    "        # Create a list of tool names for the tools provided\n",
    "        kwargs[\"tool_names\"] = \", \".join([tool.name for tool in self.tools])\n",
    "        return self.template.format(**kwargs)"
   ]
  },
  {
   "cell_type": "code",
   "execution_count": 21,
   "id": "bee9a262-9c65-4982-b42c-90fd76a4d358",
   "metadata": {},
   "outputs": [],
   "source": [
    "prompt = CustomPromptTemplate(\n",
    "    template=template_with_history,\n",
    "    tools=tools,\n",
    "    # This omits the `agent_scratchpad`, `tools`, and `tool_names` variables because those are generated dynamically\n",
    "    # This includes the `intermediate_steps` variable because that is needed\n",
    "    input_variables=[\"input\", \"intermediate_steps\", \"history\"]\n",
    ")"
   ]
  },
  {
   "cell_type": "code",
   "execution_count": 22,
   "id": "66b33abc-20dd-4cc8-9185-5511e647e295",
   "metadata": {},
   "outputs": [],
   "source": [
    "class CustomOutputParser(AgentOutputParser):\n",
    "    \n",
    "    def parse(self, llm_output: str) -> Union[AgentAction, AgentFinish]:\n",
    "        # Check if agent should finish\n",
    "        if \"Final Answer:\" in llm_output:\n",
    "            return AgentFinish(\n",
    "                # Return values is generally always a dictionary with a single `output` key\n",
    "                # It is not recommended to try anything else at the moment :)\n",
    "                return_values={\"output\": llm_output.split(\"Final Answer:\")[-1].strip()},\n",
    "                log=llm_output,\n",
    "            )\n",
    "        # Parse out the action and action input\n",
    "        regex = r\"Action\\s*\\d*\\s*:(.*?)\\nAction\\s*\\d*\\s*Input\\s*\\d*\\s*:[\\s]*(.*)\"\n",
    "        match = re.search(regex, llm_output, re.DOTALL)\n",
    "        if not match:\n",
    "            raise ValueError(f\"Could not parse LLM output: `{llm_output}`\")\n",
    "        action = match.group(1).strip()\n",
    "        action_input = match.group(2)\n",
    "        # Return the action and action input\n",
    "        return AgentAction(tool=action, tool_input=action_input.strip(\" \").strip('\"'), log=llm_output)\n",
    "\n",
    "\n",
    "output_parser = CustomOutputParser()"
   ]
  },
  {
   "cell_type": "code",
   "execution_count": null,
   "id": "2e2480f6-b72b-42f6-9891-d2bdbfc49519",
   "metadata": {},
   "outputs": [],
   "source": []
  },
  {
   "cell_type": "code",
   "execution_count": 23,
   "id": "d3ee85b6-137b-4b75-b8ec-fe6cf231f10e",
   "metadata": {},
   "outputs": [],
   "source": [
    "llm_chain = LLMChain(llm=llm, prompt=prompt)\n",
    "tool_names = [tool.name for tool in tools]"
   ]
  },
  {
   "cell_type": "code",
   "execution_count": 24,
   "id": "6a8312a9-f831-4621-9b8f-65d24997f564",
   "metadata": {},
   "outputs": [],
   "source": [
    "memory=ConversationBufferWindowMemory(k=2)"
   ]
  },
  {
   "cell_type": "code",
   "execution_count": 25,
   "id": "2fac23d1-69c3-4e3c-be22-79e8c589964e",
   "metadata": {},
   "outputs": [],
   "source": [
    "agent = LLMSingleActionAgent(\n",
    "    llm_chain=llm_chain, \n",
    "    output_parser=output_parser,\n",
    "    stop=[\"\\nObservation:\"], \n",
    "    allowed_tools=tool_names\n",
    ")\n",
    "# agent = initialize_agent(\n",
    "#     llm = llm,\n",
    "#     tools = tools,\n",
    "#     agent = AgentType.ZERO_SHOT_REACT_DESCRIPTION,\n",
    "#     verbose = True\n",
    "# )"
   ]
  },
  {
   "cell_type": "code",
   "execution_count": 26,
   "id": "19fef200-67da-4d6d-9030-f44921935340",
   "metadata": {},
   "outputs": [],
   "source": [
    "agent_executor = AgentExecutor.from_agent_and_tools(agent=agent, \n",
    "                                                    tools=tools, \n",
    "                                                    verbose=True,\n",
    "                                                   memory=memory)"
   ]
  },
  {
   "cell_type": "code",
   "execution_count": 27,
   "id": "9009bac7-723c-4515-a6cd-df2896a740eb",
   "metadata": {},
   "outputs": [],
   "source": [
    "q1 = \"How can I treat a spained ankle?\"\n",
    "q2 = \"What are the causes of skin cancer?\"\n",
    "q3 = \"What are the foods to avoid during pregnancy?\"\n",
    "q4 = \"I am having flu. What should I do now?\""
   ]
  },
  {
   "cell_type": "code",
   "execution_count": 29,
   "id": "48edf0cd-1271-48c2-8aca-3782ba7c8ba0",
   "metadata": {},
   "outputs": [
    {
     "name": "stdout",
     "output_type": "stream",
     "text": [
      "\n",
      "\n",
      "\u001b[1m> Entering new AgentExecutor chain...\u001b[0m\n",
      "\u001b[32;1m\u001b[1;3mThought: It is important to address the flu symptoms and prevent further complications.\n",
      "Action: Search NIH\n",
      "Action Input: \"flu treatment\"\u001b[0m\n",
      "\n",
      "Observation:\u001b[36;1m\u001b[1;3mAntiviral Treatment of Influenza When Influenza Viruses and SARS-CoV-2 Are Cocirculating. Antiviral treatment for influenza is the same for all patients regardless of SARS-CoV-2 coinfection (AIII). For information on using antiviral drugs to treat influenza in hospitalized and nonhospitalized patients, see the CDC and IDSA recommendations. Credit: NIAID. Seasonal influenza, or flu, is a highly contagious respiratory disease caused by any of several human influenza viruses that circulate globally and cause annual outbreaks of varying severity. Influenza viruses infect the nose, throat, and lungs and produce symptoms that include sudden fever, extreme fatigue, coughing, chills, and ... The prevention and treatment of influenza are best done with an interprofessional team that includes a nurse, nurse practitioner, primary care provider, internist, pharmacist, an emergency department physician, and an infectious disease specialist. Each year, the flu affects millions of people and lead to time off work and school. The prevention and treatment of influenza are with an interprofessional team that includes a nurse practitioner, primary care provider, internist, an emergency department physician, and an infectious disease specialist. The key is patient educations. All patients should be encouraged to get the annual flu vaccine that is available in November ... Another shortcoming in treating influenza virus infections is the requirement for in vivo disease models for influenza-related research, which can be challenging and problematic from the standpoint of evaluating antiviral treatment and efficacy. Numerous animal models often require repeated analysis of host-virus interactions, transmission ...\u001b[0m\n",
      "\u001b[32;1m\u001b[1;3m It seems that antiviral treatment is recommended for influenza.\n",
      "Action: Search NIH\n",
      "Action Input: \"antiviral treatment for influenza\"\u001b[0m\n",
      "\n",
      "Observation:\u001b[36;1m\u001b[1;3mIn a patient who is intubated: Antiviral treatment for influenza should be continued, and a lower respiratory tract specimen (e.g., endotracheal aspirate) should be collected and tested using an influenza nucleic acid detection assay. If the lower respiratory tract specimen is also negative, antiviral treatment for influenza can be stopped. 4. Limitations of Antivirals and Anti-Influenza Drug-Resistance Mechanisms. Apart from these challenges, the emergence of drug-resistant influenza strains due to currently prescribed antiviral drug regimens is a major limitation in influenza treatment, and such related significant limitations of influenza monotherapy are detailed below. Give antiviral therapy for influenza within 48 hours of symptom onset (or earlier), and do not delay treatment for laboratory confirmation if a rapid test is not available. Antiviral treatment can provide benefit even after 48 hours in pregnant and other high-risk patients. Vaccination is the most effective method of preventing influenza illness. Influenza is a communicable viral disease that affects the upper and lower respiratory tract. A wide spectrum of influenza viruses causes it. Some of these viruses can infect humans, and some are specific to different species. These viruses are transmissible through respiratory droplets expelled from the mouth and respiratory system during coughing, talking, and sneezing. Influenza antivirals are divided into the following two categories of direct-acting drugs: neuraminidase (NA) inhibitors (NAIs) that target the NA enzyme to prevent virus budding and the cap-dependent endonuclease inhibitor, baloxavir marboxil. ... An oral antiviral for the treatment and prophylaxis of influenza in diverse populations. J ...\u001b[0m\n",
      "\u001b[32;1m\u001b[1;3m It is important to start antiviral treatment for influenza within 48 hours of symptom onset.\n",
      "Action: Search NIH\n",
      "Action Input: \"antiviral treatment for influenza within 48 hours\"\u001b[0m\n",
      "\n",
      "Observation:\u001b[36;1m\u001b[1;3mGive antiviral therapy for influenza within 48 hours of symptom onset (or earlier), and do not delay treatment for laboratory confirmation if a rapid test is not available. Antiviral treatment can provide benefit even after 48 hours in pregnant and other high-risk patients. Vaccination is the most effective method of preventing influenza illness. If treatment is initiated within 48 h of infection, it has the potential to shorten the illness by 1.5 days . ... The major challenge in treating influenza is the antiviral resistance of most human influenza A virus strains toward M2 inhibitors. Adamantanes work only against influenza A viruses and are not effective against influenza B viruses. Testing for SARS-CoV-2 and Influenza. The COVID-19 Treatment Guidelines Panel (the Panel) recommends performing influenza testing in addition to SARS-CoV-2 testing in outpatients with acute respiratory illness if the results will change the clinical management strategy for the patient (e.g., administering antiviral treatment for influenza) (BIII). Influenza is a communicable viral disease that affects the upper and lower respiratory tract. A wide spectrum of influenza viruses causes it. Some of these viruses can infect humans, and some are specific to different species. These viruses are transmissible through respiratory droplets expelled from the mouth and respiratory system during coughing, talking, and sneezing. The CDC reported that antiviral treatment within 48 h of the onset of influenza provides the greatest clinical benefit . After the 2009 influenza pandemic, oseltamivir was also approved for treatment of infants aged >2 weeks, but there is still insufficient clinical data to demonstrate the safety and efficacy of oseltamivir . Kimberlin et al ...\u001b[0m\n",
      "\u001b[32;1m\u001b[1;3m It is important to start antiviral treatment for influenza within 48 hours of symptom onset, even if a rapid test is not available.\n",
      "Action: Search NIH\n",
      "Action Input: \"antiviral treatment for influenza without rapid test\"\u001b[0m\n",
      "\n",
      "Observation:\u001b[36;1m\u001b[1;3mTesting for SARS-CoV-2 and Influenza. The COVID-19 Treatment Guidelines Panel (the Panel) recommends performing influenza testing in addition to SARS-CoV-2 testing in outpatients with acute respiratory illness if the results will change the clinical management strategy for the patient (e.g., administering antiviral treatment for influenza) (BIII). Give antiviral therapy for influenza within 48 hours of symptom onset (or earlier), and do not delay treatment for laboratory confirmation if a rapid test is not available. Antiviral treatment can provide benefit even after 48 hours in pregnant and other high-risk patients. Vaccination is the most effective method of preventing influenza illness. 4. Limitations of Antivirals and Anti-Influenza Drug-Resistance Mechanisms. Apart from these challenges, the emergence of drug-resistant influenza strains due to currently prescribed antiviral drug regimens is a major limitation in influenza treatment, and such related significant limitations of influenza monotherapy are detailed below. Influenza is a communicable viral disease that affects the upper and lower respiratory tract. A wide spectrum of influenza viruses causes it. Some of these viruses can infect humans, and some are specific to different species. These viruses are transmissible through respiratory droplets expelled from the mouth and respiratory system during coughing, talking, and sneezing. December 6, 2023. Eligible adults can now receive free at-home rapid tests, telehealth sessions and at-home treatments for both COVID and influenza through a newly expanded federal government program. Source: ABCNews.\u001b[0m\n",
      "\u001b[32;1m\u001b[1;3m It is important to seek medical attention and start antiviral treatment for influenza within 48 hours of symptom onset, even if a rapid test is not available.\n",
      "Final Answer: It is important to seek medical attention and start antiviral treatment for influenza within 48 hours of symptom onset, even if a rapid test is not available. This can help reduce the severity and duration of the illness and prevent further complications. Remember to also get the annual flu vaccine to protect yourself and others from the flu. If you have any concerns or symptoms, please speak to a doctor for proper diagnosis and treatment.\u001b[0m\n",
      "\n",
      "\u001b[1m> Finished chain.\u001b[0m\n"
     ]
    },
    {
     "data": {
      "text/plain": [
       "'It is important to seek medical attention and start antiviral treatment for influenza within 48 hours of symptom onset, even if a rapid test is not available. This can help reduce the severity and duration of the illness and prevent further complications. Remember to also get the annual flu vaccine to protect yourself and others from the flu. If you have any concerns or symptoms, please speak to a doctor for proper diagnosis and treatment.'"
      ]
     },
     "execution_count": 29,
     "metadata": {},
     "output_type": "execute_result"
    }
   ],
   "source": [
    "agent_executor.run(q4)"
   ]
  },
  {
   "cell_type": "code",
   "execution_count": null,
   "id": "f8bd8e2c-91db-4897-b65c-802e5b6e217b",
   "metadata": {},
   "outputs": [],
   "source": []
  }
 ],
 "metadata": {
  "kernelspec": {
   "display_name": "Python 3 (ipykernel)",
   "language": "python",
   "name": "python3"
  },
  "language_info": {
   "codemirror_mode": {
    "name": "ipython",
    "version": 3
   },
   "file_extension": ".py",
   "mimetype": "text/x-python",
   "name": "python",
   "nbconvert_exporter": "python",
   "pygments_lexer": "ipython3",
   "version": "3.10.13"
  }
 },
 "nbformat": 4,
 "nbformat_minor": 5
}
